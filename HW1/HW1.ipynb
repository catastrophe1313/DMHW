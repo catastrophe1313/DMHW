{
 "cells": [
  {
   "attachments": {},
   "cell_type": "markdown",
   "metadata": {},
   "source": [
    "## Homework 1"
   ]
  },
  {
   "attachments": {},
   "cell_type": "markdown",
   "metadata": {},
   "source": [
    "### Preprocessing"
   ]
  },
  {
   "cell_type": "code",
   "execution_count": 1,
   "metadata": {},
   "outputs": [],
   "source": [
    "# Generate a Dictionary of Vocabulary\n",
    "f = open(\"paper.txt\")\n",
    "line = f.readline()\n",
    "vocSet = set()\n",
    "vocStat = []\n",
    "vocCount = []\n",
    "while line:\n",
    "    vocSplit = line.split()\n",
    "    item = []\n",
    "    for i in range(1, len(vocSplit)):\n",
    "            vocSet.add(vocSplit[i])\n",
    "            item.append(vocSplit[i])\n",
    "    vocCount.append(len(set(item)))       \n",
    "    vocStat.append(item)\n",
    "    line = f.readline()\n",
    "f.close()\n",
    "f = open(\"vocab.txt\",  \"w\")\n",
    "for i in vocSet:\n",
    "    f.write(i)\n",
    "    f.write(\"\\n\")\n",
    "f.close()"
   ]
  },
  {
   "cell_type": "code",
   "execution_count": 13,
   "metadata": {},
   "outputs": [],
   "source": [
    "# Tokenize Plain Text by Dictionary\n",
    "vocList = list(vocSet)\n",
    "f = open(\"title.txt\",  \"w\")\n",
    "for i in range(len(vocStat)):\n",
    "    f.write(str(vocCount[i]) + \" \")\n",
    "    statDict = {}\n",
    "    for j in vocStat[i]:\n",
    "        ind = vocList.index(j)\n",
    "        if ind in statDict:\n",
    "            statDict[ind] += 1\n",
    "        else:\n",
    "            statDict[ind] = 1\n",
    "    for k, v in statDict.items():\n",
    "         f.write(str(k )+ \":\" + str(v) + \" \")\n",
    "    f.write(\"\\n\")\n",
    "f.close()"
   ]
  },
  {
   "attachments": {},
   "cell_type": "markdown",
   "metadata": {},
   "source": [
    "### Partitioning"
   ]
  },
  {
   "cell_type": "code",
   "execution_count": 13,
   "metadata": {},
   "outputs": [],
   "source": [
    "# Re-organize the Terms by Topic\n",
    "f = open(\"result/word-assignments.dat\")\n",
    "line = f.readline()\n",
    "orgMap = {0:[], 1:[], 2:[], 3:[], 4:[]}\n",
    "count = 0\n",
    "while line:\n",
    "    orgSplit = line.split()\n",
    "    for value in orgMap.values():\n",
    "        temp = []\n",
    "        value.append(temp)\n",
    "    for i in range(1, len(orgSplit)):\n",
    "        term = orgSplit[i].split(\":\")[0]\n",
    "        topic = int(orgSplit[i].split(\":\")[1])\n",
    "        orgMap[topic][count].append(term)\n",
    "    line = f.readline()\n",
    "    count += 1\n",
    "for key, value in orgMap.items():\n",
    "    f = open(\"topic-\"+str(key)+\".txt\",  \"w\")\n",
    "    for i in value:\n",
    "        if len(i) != 0:\n",
    "            for j in i:\n",
    "                f.write(j + \" \")\n",
    "            f.write(\"\\n\")\n",
    "    f.close()\n",
    "\n"
   ]
  },
  {
   "attachments": {},
   "cell_type": "markdown",
   "metadata": {},
   "source": [
    "### Mining Frequent Patterns for Each Topic"
   ]
  },
  {
   "cell_type": "code",
   "execution_count": 6,
   "metadata": {},
   "outputs": [
    {
     "name": "stdout",
     "output_type": "stream",
     "text": [
      "['0']\n",
      "['0']\n",
      "['0']\n",
      "['0']\n",
      "['0']\n",
      "['0']\n",
      "['0']\n",
      "['0']\n"
     ]
    }
   ],
   "source": [
    "f = open(\"title.txt\", \"r\")\n",
    "line = f.readlines()\n",
    "for i in line:\n",
    "    sp = i.split()\n",
    "    if sp[0] == \"0\":\n",
    "        print(sp)"
   ]
  },
  {
   "cell_type": "code",
   "execution_count": null,
   "metadata": {},
   "outputs": [],
   "source": []
  }
 ],
 "metadata": {
  "kernelspec": {
   "display_name": "base",
   "language": "python",
   "name": "python3"
  },
  "language_info": {
   "codemirror_mode": {
    "name": "ipython",
    "version": 3
   },
   "file_extension": ".py",
   "mimetype": "text/x-python",
   "name": "python",
   "nbconvert_exporter": "python",
   "pygments_lexer": "ipython3",
   "version": "3.9.12"
  },
  "orig_nbformat": 4,
  "vscode": {
   "interpreter": {
    "hash": "1512f37726af7c68f1d27edf62d97892a0e2e2246e9d7c1943c25041104d8969"
   }
  }
 },
 "nbformat": 4,
 "nbformat_minor": 2
}
