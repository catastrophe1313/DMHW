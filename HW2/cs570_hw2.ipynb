{
  "nbformat": 4,
  "nbformat_minor": 0,
  "metadata": {
    "colab": {
      "provenance": []
    },
    "kernelspec": {
      "name": "python3",
      "display_name": "Python 3"
    },
    "language_info": {
      "name": "python"
    },
    "accelerator": "GPU",
    "gpuClass": "standard"
  },
  "cells": [
    {
      "cell_type": "markdown",
      "metadata": {
        "id": "XuXWJLEm2UWS"
      },
      "source": [
        "# **CS570 - Homework 2**\n"
      ]
    },
    {
      "cell_type": "markdown",
      "metadata": {
        "id": "8gzsP50bF6Gb"
      },
      "source": [
        "In this assignment we will implement the **GraphSAGE** ([Hamilton et al. (2017)](https://arxiv.org/abs/1706.02216)) layer and **GAT** ([Veličković et al. (2018)](https://arxiv.org/abs/1710.10903)) layer. Then we will run our models on the CORA dataset, which is a standard node classification dataset on a citation network benchmark.\n",
        "\n",
        "**Note**: Make sure to **sequentially run all the cells in each section** so that the intermediate variables / packages will carry over to the next cell."
      ]
    },
    {
      "cell_type": "markdown",
      "metadata": {
        "id": "MSaetj53YnT6"
      },
      "source": [
        "# Device\n",
        "We recommend using a GPU for this assignment.\n",
        "\n",
        "Please click `Runtime` and then `Change runtime type`. Then set the `hardware accelerator` to **GPU**."
      ]
    },
    {
      "cell_type": "markdown",
      "metadata": {
        "id": "67gOQITlCNQi"
      },
      "source": [
        "## Installation"
      ]
    },
    {
      "cell_type": "code",
      "source": [
        "# import os, sys\n",
        "# # 挂载google drive\n",
        "# from google.colab import drive\n",
        "# drive.mount('/content/gdrive')\n",
        "\n",
        "# nb_path = '/content/gdrive/MyDrive/Python'\n",
        "# os.symlink('/content/gdrive/My Drive/Colab Notebooks', nb_path)\n",
        "# sys.path.insert(0, nb_path)  # or append(nb_path)"
      ],
      "metadata": {
        "id": "2fSUS973yLo5"
      },
      "execution_count": null,
      "outputs": []
    },
    {
      "cell_type": "code",
      "source": [
        "# !pip install --target=$nb_path torch-scatter -f https://pytorch-geometric.com/whl/torch-1.9.0+cu111.html\n",
        "# # !pip install --target=$nb_path torch-sparse -f https://pytorch-geometric.com/whl/torch-1.9.0+cu111.html\n",
        "# !pip install --target=$nb_path torch-geometric"
      ],
      "metadata": {
        "id": "u0tWrsCQykYI"
      },
      "execution_count": null,
      "outputs": []
    },
    {
      "cell_type": "code",
      "source": [
        "import sys\n",
        "from google.colab import drive\n",
        "drive.mount('/content/gdrive')\n",
        "sys.path.insert(0,\"/content/gdrive/MyDrive/Python\")"
      ],
      "metadata": {
        "colab": {
          "base_uri": "https://localhost:8080/"
        },
        "id": "j_OOtPoS_NPU",
        "outputId": "eea5ca46-807c-4d0c-9ef1-061e1cd77d6d"
      },
      "execution_count": null,
      "outputs": [
        {
          "output_type": "stream",
          "name": "stdout",
          "text": [
            "Mounted at /content/gdrive\n"
          ]
        }
      ]
    },
    {
      "cell_type": "code",
      "metadata": {
        "id": "J_m9l6OYCQZP"
      },
      "source": [
        "# # Install torch geometric\n",
        "# import os\n",
        "# !pip install torch-scatter -f https://pytorch-geometric.com/whl/torch-1.9.0+cu111.html\n",
        "# !pip install torch-sparse -f https://pytorch-geometric.com/whl/torch-1.9.0+cu111.html\n",
        "# !pip install torch-geometric"
      ],
      "execution_count": null,
      "outputs": []
    },
    {
      "cell_type": "code",
      "metadata": {
        "id": "PRfgbfTjCRD_",
        "colab": {
          "base_uri": "https://localhost:8080/",
          "height": 35
        },
        "outputId": "c4ff60ad-3ba2-4ad5-a578-36f6383f2021"
      },
      "source": [
        "import torch_geometric\n",
        "torch_geometric.__version__"
      ],
      "execution_count": null,
      "outputs": [
        {
          "output_type": "execute_result",
          "data": {
            "text/plain": [
              "'2.2.0'"
            ],
            "application/vnd.google.colaboratory.intrinsic+json": {
              "type": "string"
            }
          },
          "metadata": {},
          "execution_count": 2
        }
      ]
    },
    {
      "cell_type": "markdown",
      "metadata": {
        "id": "ZoXlf4MtYrbz"
      },
      "source": [
        "# 1) GNN Layers"
      ]
    },
    {
      "cell_type": "markdown",
      "metadata": {
        "id": "TQy2RBfgYut4"
      },
      "source": [
        "## Implementing Layer Modules\n",
        "For this assignment, we provide a build upon a general Graph Neural Network Stack, into which we will be able to plugin our own module implementations: GraphSAGE and GAT.\n",
        "\n",
        "We will then use our layer implemenations to complete node classification on the CORA dataset, a standard citation network benchmark. In this dataset, nodes correspond to documents and edges correspond to undirected citations. Each node or document in the graph is assigned a class label and features based on the documents binarized bag-of-words representation. Specifically, the Cora graph has 2708 nodes, 5429 edges, 7 prediction classes, and 1433 features per node."
      ]
    },
    {
      "cell_type": "markdown",
      "metadata": {
        "id": "H4ne6Gw-CT5G"
      },
      "source": [
        "## GNN Stack Module\n",
        "\n",
        "Below is the implementation of a general GNN stack, where we can plugin any GNN layer, such as **GraphSage**, **GAT**, etc. This module is provided for you. Your implementations of the **GraphSage** and **GAT** layers will function as components in the GNNStack Module."
      ]
    },
    {
      "cell_type": "code",
      "metadata": {
        "id": "Ys8vZAFPCWWe"
      },
      "source": [
        "import torch\n",
        "import torch_scatter\n",
        "import torch.nn as nn\n",
        "import torch.nn.functional as F\n",
        "\n",
        "import torch_geometric.nn as pyg_nn\n",
        "import torch_geometric.utils as pyg_utils\n",
        "\n",
        "from torch import Tensor\n",
        "from typing import Union, Tuple, Optional\n",
        "from torch_geometric.typing import (OptPairTensor, Adj, Size, NoneType,\n",
        "                                    OptTensor)\n",
        "\n",
        "from torch.nn import Parameter, Linear\n",
        "from torch_sparse import SparseTensor, set_diag\n",
        "from torch_geometric.nn.conv import MessagePassing\n",
        "from torch_geometric.utils import remove_self_loops, add_self_loops, softmax\n",
        "\n",
        "class GNNStack(torch.nn.Module):\n",
        "    def __init__(self, input_dim, hidden_dim, output_dim, args, emb=False):\n",
        "        super(GNNStack, self).__init__()\n",
        "        conv_model = self.build_conv_model(args.model_type)\n",
        "        self.convs = nn.ModuleList()\n",
        "        self.convs.append(conv_model(input_dim, hidden_dim))\n",
        "        assert (args.num_layers >= 1), 'Number of layers is not >=1'\n",
        "        for l in range(args.num_layers-1):\n",
        "            self.convs.append(conv_model(args.heads * hidden_dim, hidden_dim))\n",
        "\n",
        "        # post-message-passing\n",
        "        self.post_mp = nn.Sequential(\n",
        "            nn.Linear(args.heads * hidden_dim, hidden_dim), nn.Dropout(args.dropout),\n",
        "            nn.Linear(hidden_dim, output_dim))\n",
        "\n",
        "        self.dropout = args.dropout\n",
        "        self.num_layers = args.num_layers\n",
        "\n",
        "        self.emb = emb\n",
        "\n",
        "    def build_conv_model(self, model_type):\n",
        "        if model_type == 'GraphSage':\n",
        "            return GraphSage\n",
        "        elif model_type == 'GAT':\n",
        "            # When applying GAT with num heads > 1, you need to modify the\n",
        "            # input and output dimension of the conv layers (self.convs),\n",
        "            # to ensure that the input dim of the next layer is num heads\n",
        "            # multiplied by the output dim of the previous layer.\n",
        "            # HINT: In case you want to play with multiheads, you need to change the for-loop that builds up self.convs to be\n",
        "            # self.convs.append(conv_model(hidden_dim * num_heads, hidden_dim)),\n",
        "            # and also the first nn.Linear(hidden_dim * num_heads, hidden_dim) in post-message-passing.\n",
        "            return GAT\n",
        "\n",
        "    def forward(self, data):\n",
        "        x, edge_index, batch = data.x, data.edge_index, data.batch\n",
        "\n",
        "        for i in range(self.num_layers):\n",
        "            x = self.convs[i](x, edge_index)\n",
        "            x = F.relu(x)\n",
        "            x = F.dropout(x, p=self.dropout,training=self.training)\n",
        "\n",
        "        x = self.post_mp(x)\n",
        "\n",
        "        if self.emb == True:\n",
        "            return x\n",
        "\n",
        "        return F.log_softmax(x, dim=1)\n",
        "\n",
        "    def loss(self, pred, label):\n",
        "        return F.nll_loss(pred, label)"
      ],
      "execution_count": null,
      "outputs": []
    },
    {
      "cell_type": "markdown",
      "metadata": {
        "id": "5nW_XpEwASNZ"
      },
      "source": [
        "## Creating Our Own Message Passing Layer\n",
        "\n",
        "Now let's start implementing our own message passing layers! Working through this part will help us become acutely familiar with the behind the scenes work of implementing Pytorch Message Passing Layers, allowing us to build our own GNN models. To do so, we will work with and implement 3 critcal functions needed to define a PyG Message Passing Layer: `forward`, `message`, and `aggregate`.\n",
        "\n",
        "Before diving head first into the coding details, let us quickly review the key components of the message passing process. To do so, we will focus on a single round of messsage passing with respect to a single central node $x$. Before message passing, $x$ is associated with a feature vector $x^{l-1}$, and the goal of message passing is to update this feature vector as $x^l$. To do so, we implement the following steps: 1) each neighboring node $v$ passes its current message $v^{l-1}$ across the edge $(x, v)$ - 2) for the node $x$, we aggregate all of the messages of the neighboring nodes (for example through a sum or mean) - and 3) we transform the aggregated information by for example applying linear and non-linear transformations. Altogether, the message passing process is applied such that every node $u$ in our graph updates its embedding by acting as the central node $x$ in step 1-3 described above.\n",
        "\n",
        "Now, we extending this process to that of a single message passing layer, the job of a message passing layer is to update the current feature representation or embedding of each node in a graph by propagating and transforming information within the graph. Overall, the general paradigm of a message passing layers is: 1) pre-processing -> 2) **message passing** / propagation -> 3) post-processing.\n",
        "\n",
        "The `forward` fuction that we will implement for our message passing layer captures this execution logic. Namely, the `forward` function handles the pre and post-processing of node features / embeddings, as well as initiates message passing by calling the `propagate` function.\n",
        "\n",
        "\n",
        "The `propagate` function encapsulates the message passing process! It does so by calling three important functions: 1) `message`, 2) `aggregate`, and 3) `update`. Our implementation will vary slightly from this, as we will not explicitly implement `update`, but instead place the logic for updating node embeddings after message passing and within the `forward` function. To be more specific, after information is propagated (message passing), we can further transform the node embeddings outputed by `propagate`. Therefore, the output of `forward` is exactly the node embeddings after one GNN layer.\n",
        "\n",
        "Lastly, before starting to implement our own layer, let us dig a bit deeper into each of the functions described above:\n",
        "\n",
        "1.\n",
        "\n",
        "```\n",
        "def propagate(edge_index, x=(x_i, x_j), extra=(extra_i, extra_j), size=size):\n",
        "```\n",
        "Calling `propagate` initiates the message passing process. Looking at the function parameters, we highlight a couple of key parameters.\n",
        "\n",
        "  - `edge_index` is passed to the forward function and captures the edge structure of the graph.\n",
        "  - `x=(x_i, x_j)` represents the node features that will be used in message passing. In order to explain why we pass the tuple `(x_i, x_j)`, we first look at how our edges are represented. For every edge $(i, j) \\in \\mathcal{E}$, we can differentiate $i$ as the source or central node ($x_{central}$) and j as the neighboring node ($x_{neighbor}$).\n",
        "  \n",
        "    Taking the example of message passing above, for a central node $u$ we will aggregate and transform all of the messages associated with the nodes $v$ s.t. $(u, v) \\in \\mathcal{E}$ (i.e. $v \\in \\mathcal{N}_{u}$). Thus we see, the subscripts `_i` and `_j` allow us to specifcally differenciate features associated with central nodes (i.e. nodes  recieving message information) and neighboring nodes (i.e. nodes passing messages).\n",
        "\n",
        "    This is definitely a somewhat confusing concept; however, one key thing to remember / wrap your head around is that depending on the perspective, a node $x$ acts as a central node or a neighboring node. In fact, in undirected graphs we store both edge directions (i.e. $(i, j)$ and $(j, i)$). From the central node perspective, `x_i`, x is collecting neighboring information to update its embedding. From a neighboring node perspective, `x_j`, x is passing its message information along the edge connecting it to a different central node.\n",
        "\n",
        "  - `extra=(extra_i, extra_j)` represents additional information that we can associate with each node beyond its current feature embedding. In fact, we can include as many additional parameters of the form `param=(param_i, param_j)` as we would like. Again, we highlight that indexing with `_i` and `_j` allows us to differentiate central and neighboring nodes.\n",
        "\n",
        "  The output of the `propagate` function is a matrix of node embeddings after the message passing process and has shape $[N, d]$.\n",
        "\n",
        "2.\n",
        "```\n",
        "def message(x_j, ...):\n",
        "```\n",
        "The `message` function is called by propagate and constructs the messages from\n",
        "neighboring nodes $j$ to central nodes $i$ for each edge $(i, j)$ in *edge_index*. This function can take any argument that was initially passed to `propagate`. Furthermore, we can again differentiate central nodes and neighboring nodes by appending `_i` or `_j` to the variable name, .e.g. `x_i` and `x_j`. Looking more specifically at the variables, we have:\n",
        "\n",
        "  - `x_j` represents a matrix of feature embeddings for all neighboring nodes passing their messages along their respective edge (i.e. all nodes $j$ for edges $(i, j) \\in \\mathcal{E}$). Thus, its shape is $[|\\mathcal{E}|, d]$!\n",
        "  - In implementing GAT we will see how to access additional variables passed to propagate\n",
        "\n",
        "  Critically, we see that the output of the `message` function is a matrix of neighboring node embeddings ready to be aggregated, having shape $[|\\mathcal{E}|, d]$.\n",
        "\n",
        "3.\n",
        "```\n",
        "def aggregate(self, inputs, index, dim_size = None):\n",
        "```\n",
        "Lastly, the `aggregate` function is used to aggregate the messages from neighboring nodes. Looking at the parameters we highlight:\n",
        "\n",
        "  - `inputs` represents a matrix of the messages passed from neighboring nodes (i.e. the output of the `message` function).\n",
        "  - `index` has the same shape as `inputs` and tells us the central node that corresponding to each of the rows / messages $j$ in the `inputs` matrix. Thus, `index` tells us which rows / messages to aggregate for each central node.\n",
        "\n",
        "  The output of `aggregate` is of shape $[N, d]$.\n",
        "\n",
        "\n",
        "For additional resources refer to the PyG documentation for implementing custom message passing layers: https://pytorch-geometric.readthedocs.io/en/latest/notes/create_gnn.html"
      ]
    },
    {
      "cell_type": "markdown",
      "metadata": {
        "id": "syDtxjxoCZgq"
      },
      "source": [
        "## GraphSage Implementation\n",
        "\n",
        "For our first GNN layer, we will implement the well known GraphSage ([Hamilton et al. (2017)](https://arxiv.org/abs/1706.02216)) layer!\n",
        "\n",
        "For a given *central* node $v$ with current embedding $h_v^{l-1}$, the message passing update rule to tranform $h_v^{l-1} \\rightarrow h_v^l$ is as follows:\n",
        "\n",
        "\\begin{equation}\n",
        "h_v^{(l)} = W_l\\cdot h_v^{(l-1)} + W_r \\cdot AGG(\\{h_u^{(l-1)}, \\forall u \\in N(v) \\})\n",
        "\\end{equation}\n",
        "\n",
        "where $W_1$ and $W_2$ are learanble weight matrices and the nodes $u$ are *neighboring* nodes. Additionally, we use mean aggregation for simplicity:\n",
        "\n",
        "\\begin{equation}\n",
        "AGG(\\{h_u^{(l-1)}, \\forall u \\in N(v) \\}) = \\frac{1}{|N(v)|} \\sum_{u\\in N(v)} h_u^{(l-1)}\n",
        "\\end{equation}\n",
        "\n",
        "One thing to note is that we're adding a **skip connection** to our GraphSage implementation through the term $W_l\\cdot h_v^{(l-1)}$.\n",
        "\n",
        "Before implementing this update rule, we encourage you to think about how different parts of the formulas above correspond with the functions outlined earlier: 1) `forward`, 2) `message`, and 3) `aggregate`. As a hint, we are given what the aggregation function is (i.e. mean aggregation)! Now the question remains, what are the messages passed by each neighbor nodes and when do we call the `propagate` function?\n",
        "\n",
        "Note: in this case the message function or messages are actually quite simple. Additionally, remember that the `propagate` function encapsulates the operations of / the outputs of the combined `message` and `aggregate` functions.\n",
        "\n",
        "\n",
        "Lastly, $\\ell$-2 normalization of the node embeddings is applied after each iteration.\n",
        "\n",
        "\n",
        "<font color='red'>For the following questions, please DON'T refer to any existing implementations online.</font>"
      ]
    },
    {
      "cell_type": "code",
      "metadata": {
        "id": "RwG4HqCFCaOD"
      },
      "source": [
        "class GraphSage(MessagePassing):\n",
        "\n",
        "    def __init__(self, in_channels, out_channels, normalize = True,\n",
        "                 bias = False, **kwargs):\n",
        "        super(GraphSage, self).__init__(**kwargs)\n",
        "\n",
        "        ############################################################################\n",
        "        # TODO: Your code here!\n",
        "        # Define the layers needed for the message and update functions below.\n",
        "        ############################################################################\n",
        "        self.lin_l = Linear(in_channels, out_channels, bias=False)\n",
        "        self.lin_r = Linear(in_channels, out_channels, bias=False)\n",
        "        self.reset_parameters()\n",
        "\n",
        "    def reset_parameters(self):\n",
        "        self.lin_l.reset_parameters()\n",
        "        self.lin_r.reset_parameters()\n",
        "\n",
        "    def forward(self, x, edge_index, size = None):\n",
        "        ############################################################################\n",
        "        # TODO: Your code here!\n",
        "        # Implement message passing, as well as any post-processing (our update rule).\n",
        "        # 1. Call the propagate function to conduct the message passing.\n",
        "        #    1.1 See the description of propagate above or the following link for more information:\n",
        "        #        https://pytorch-geometric.readthedocs.io/en/latest/notes/create_gnn.html\n",
        "        #    1.2 We will only use the representation for neighbor nodes (x_j), so by default\n",
        "        #        we pass the same representation for central and neighbor nodes as x=(x, x).\n",
        "        # 2. Update our node embedding with skip connection from the previous layer.\n",
        "        # 3. If normalize is set, do L-2 normalization (defined in\n",
        "        #    torch.nn.functional)\n",
        "        #\n",
        "        ############################################################################\n",
        "        output = self.propagate(edge_index, x=(x, x))\n",
        "        output = self.lin_r(output)\n",
        "        x = self.lin_l(x)\n",
        "        norm_output = F.normalize(x + output, 2)\n",
        "        return norm_output\n",
        "\n",
        "    def message(self, x_j):\n",
        "        ############################################################################\n",
        "        # TODO: Your code here!\n",
        "        # Implement your message function here.\n",
        "        # Hint: Look at the formulation of the mean aggregation function, focusing on\n",
        "        # what message each neighboring node passes.\n",
        "        ############################################################################\n",
        "        return x_j\n",
        "\n",
        "    def aggregate(self, inputs, index, dim_size = None):\n",
        "\n",
        "        ############################################################################\n",
        "        # TODO: Your code here!\n",
        "        # Implement your aggregate function here.\n",
        "        # See here as how to use torch_scatter.scatter:\n",
        "        # https://pytorch-scatter.readthedocs.io/en/latest/functions/scatter.html#torch_scatter.scatter\n",
        "        ############################################################################\n",
        "        output = torch_scatter.scatter(inputs, index, dim=0, dim_size=dim_size, reduce='mean')\n",
        "        return output\n"
      ],
      "execution_count": null,
      "outputs": []
    },
    {
      "cell_type": "markdown",
      "metadata": {
        "id": "qjcfF3RACdLD"
      },
      "source": [
        "## GAT Implementation\n",
        "\n",
        "Attention mechanisms have become the state-of-the-art in many sequence-based tasks such as machine translation and learning sentence representations. One of the major benefits of attention-based mechanisms is their ability to focus on the most relevant parts of the input to make decisions. In this problem, we will see how attention mechanisms can be used to perform node classification over graph-structured data through the usage of Graph Attention Networks (GATs) ([Veličković et al. (2018)](https://arxiv.org/abs/1710.10903)).\n",
        "\n",
        "The building block of the Graph Attention Network is the graph attention layer, which is a variant of the aggregation function. Let $N$ be the number of nodes and $F$ be the dimension of the feature vector for each node. The input to each graph attentional layer is a set of node features: $\\mathbf{h} = \\{\\overrightarrow{h_1}, \\overrightarrow{h_2}, \\dots, \\overrightarrow{h_N}$\\}, $\\overrightarrow{h_i} \\in R^F$. The output of each graph attentional layer is a new set of node features, which may have a new dimension $F'$: $\\mathbf{h'} = \\{\\overrightarrow{h_1'}, \\overrightarrow{h_2'}, \\dots, \\overrightarrow{h_N'}\\}$, with $\\overrightarrow{h_i'} \\in \\mathbb{R}^{F'}$.\n",
        "\n",
        "We will now describe how this transformation is performed for each graph attention layer. First, a shared linear transformation parametrized by the weight matrix $\\mathbf{W} \\in \\mathbb{R}^{F' \\times F}$ is applied to every node.\n",
        "\n",
        "Next, we perform self-attention on the nodes. We use a shared attention function $a$:\n",
        "\\begin{equation}\n",
        "a : \\mathbb{R}^{F'} \\times \\mathbb{R}^{F'} \\rightarrow \\mathbb{R}.\n",
        "\\end{equation}\n",
        "\n",
        "that computes the attention coefficients capturing the importance of node $j$'s features to node $i$:\n",
        "\\begin{equation}\n",
        "e_{ij} = a(\\mathbf{W_l}\\overrightarrow{h_i}, \\mathbf{W_r} \\overrightarrow{h_j})\n",
        "\\end{equation}\n",
        "\n",
        "The most general formulation of self-attention allows every node to attend to all other nodes which drops all structural information. However, to utilize graph structure in the attention mechanisms, we use **masked attention**. In masked attention, we only compute attention coefficients $e_{ij}$ for nodes $j \\in \\mathcal{N}_i$ where $\\mathcal{N}_i$ is some neighborhood of node $i$ in the graph.\n",
        "\n",
        "To easily compare coefficients across different nodes, we normalize the coefficients across $j$ using a softmax function:\n",
        "\\begin{equation}\n",
        "\\alpha_{ij} = \\text{softmax}_j(e_{ij}) = \\frac{\\exp(e_{ij})}{\\sum_{k \\in \\mathcal{N}_i} \\exp(e_{ik})}\n",
        "\\end{equation}\n",
        "\n",
        "For this problem, our attention mechanism $a$ will be a single-layer feedforward neural network parametrized by a weight vectors $\\overrightarrow{a_l} \\in \\mathbb{R}^{F'}$ and $\\overrightarrow{a_r} \\in \\mathbb{R}^{F'}$, followed by a LeakyReLU nonlinearity (with negative input slope 0.2). Let $\\cdot^T$ represent transposition and $||$ represent concatenation. The coefficients computed by our attention mechanism may be expressed as:\n",
        "\n",
        "\\begin{equation}\n",
        "\\alpha_{ij} = \\frac{\\exp\\Big(\\text{LeakyReLU}\\Big(\\overrightarrow{a_l}^T \\mathbf{W_l} \\overrightarrow{h_i} + \\overrightarrow{a_r}^T\\mathbf{W_r}\\overrightarrow{h_j}\\Big)\\Big)}{\\sum_{k\\in \\mathcal{N}_i} \\exp\\Big(\\text{LeakyReLU}\\Big(\\overrightarrow{a_l}^T \\mathbf{W_l} \\overrightarrow{h_i} + \\overrightarrow{a_r}^T\\mathbf{W_r}\\overrightarrow{h_k}\\Big)\\Big)}\n",
        "\\end{equation}\n",
        "\n",
        "For the following questions, we denote `alpha_l` = $\\alpha_l = [...,\\overrightarrow{a_l}^T \\mathbf{W_l} \\overrightarrow{h_i},...] \\in \\mathcal{R}^n$ and `alpha_r` = $\\alpha_r = [..., \\overrightarrow{a_r}^T \\mathbf{W_r} \\overrightarrow{h_j}, ...] \\in \\mathcal{R}^n$.\n",
        "\n",
        "\n",
        "At every layer of GAT, after the attention coefficients are computed for that layer, the aggregation function can be computed by a weighted sum of neighborhood messages, where weights are specified by $\\alpha_{ij}$.\n",
        "\n",
        "Now, we use the normalized attention coefficients to compute a linear combination of the features corresponding to them. These aggregated features will serve as the final output features for every node.\n",
        "\n",
        "\\begin{equation}\n",
        "h_i' = \\sum_{j \\in \\mathcal{N}_i} \\alpha_{ij} \\mathbf{W_r} \\overrightarrow{h_j}.\n",
        "\\end{equation}\n",
        "\n",
        "At this point, we have covered a lot of information! Before reading further about multi-head attention, we encourage you to go again through the excersize of thinking about what components of the attention mechanism correspond with the different functions: 1) `forward`, 2) `message`, and 3 `aggregate`.\n",
        "\n",
        "- Hint 1: Our aggregation is very similar to that of GraphSage except now we are using sum aggregation.\n",
        "- Hint 2: The terms we aggregate over again represent the individual message that each neighbor node j sends. Thus, we see that $\\alpha_{ij}$ is part of the message each node sends and is thus computed during the message step. This makes sense since an attention weight is associated with each edge in the graph.\n",
        "- Hint 3: Look at the terms in the definition of $\\alpha_{ij}$. What values do we want to pre-process and pass as parameters to the `propagate` function. The parameters of `message(..., x_j, alpha_j, alpha_i, ...)` should give a good hint.  \n",
        "\n",
        "### Multi-Head Attention\n",
        "To stabilize the learning process of self-attention, we use multi-head attention. To do this we use $K$ independent attention mechanisms, or ``heads'' compute output features as in the above equations. Then, we concatenate these output feature representations:\n",
        "\n",
        "\\begin{equation}\n",
        "    \\overrightarrow{h_i}' = ||_{k=1}^K \\Big(\\sum_{j \\in \\mathcal{N}_i} \\alpha_{ij}^{(k)} \\mathbf{W_r}^{(k)} \\overrightarrow{h_j}\\Big)\n",
        "\\end{equation}\n",
        "\n",
        "where $||$ is concentation, $\\alpha_{ij}^{(k)}$ are the normalized attention coefficients computed by the $k$-th attention mechanism $(a^k)$, and $\\mathbf{W}^{(k)}$ is the corresponding input linear transformation's weight matrix. Note that for this setting, $\\mathbf{h'} \\in \\mathbb{R}^{KF'}$."
      ]
    },
    {
      "cell_type": "code",
      "metadata": {
        "id": "w4j45gTpCeXO"
      },
      "source": [
        "class GAT(MessagePassing):\n",
        "\n",
        "    def __init__(self, in_channels, out_channels, heads = 2,\n",
        "                 negative_slope = 0.2, dropout = 0., **kwargs):\n",
        "        super(GAT, self).__init__(node_dim=0, **kwargs)\n",
        "\n",
        "        ############################################################################\n",
        "        # TODO: Your code here!\n",
        "        # Define the layers needed for the message functions below.\n",
        "        #\n",
        "        # Pay attention to dimensions of the linear layers, since we're using\n",
        "        # multi-head attention.\n",
        "        ############################################################################\n",
        "        self.in_channels = in_channels\n",
        "        self.out_channels = out_channels\n",
        "        self.heads = heads\n",
        "        self.negative_slope = negative_slope\n",
        "        self.dropout = dropout\n",
        "\n",
        "        self.lin_l = Linear(in_channels, heads * out_channels, bias=False)\n",
        "        self.lin_r = Linear(in_channels, heads * out_channels, bias=False)\n",
        "        self.att_l = Parameter(torch.rand(1, heads, out_channels))\n",
        "        self.att_r = Parameter(torch.rand(1, heads, out_channels))\n",
        "\n",
        "    def reset_parameters(self):\n",
        "        nn.init.xavier_uniform_(self.lin_l.weight)\n",
        "        nn.init.xavier_uniform_(self.lin_r.weight)\n",
        "        nn.init.xavier_uniform_(self.att_l)\n",
        "        nn.init.xavier_uniform_(self.att_r)\n",
        "\n",
        "    def forward(self, x, edge_index, size = None):\n",
        "\n",
        "        ############################################################################\n",
        "        # TODO: Your code here!\n",
        "        # Implement message passing, as well as any pre- and post-processing (our update rule).\n",
        "        # 1. First apply linear transformation to node embeddings, and split that\n",
        "        #    into multiple heads. We use the same representations for source and\n",
        "        #    target nodes, but apply different linear weights (W_l and W_r)\n",
        "        # 2. Calculate alpha vectors for central nodes (alpha_l) and neighbor nodes (alpha_r).\n",
        "        # 3. Call propagate function to conduct the message passing.\n",
        "        #    3.1 Remember to pass alpha = (alpha_l, alpha_r) as a parameter.\n",
        "        #    3.2 See there for more information: https://pytorch-geometric.readthedocs.io/en/latest/notes/create_gnn.html\n",
        "        # 4. Transform the output back to the shape of [N, H * C].\n",
        "        ############################################################################\n",
        "        edge_index, _ = add_self_loops(edge_index, num_nodes=x.size(0))\n",
        "        x_l = self.lin_l(x)\n",
        "        x_r = self.lin_r(x)\n",
        "        x_l = torch.reshape(x_l, (-1, self.heads, self.out_channels))\n",
        "        x_r = torch.reshape(x_r, (-1, self.heads, self.out_channels))\n",
        "        alpha_l = (self.att_l * x_l).sum(axis=-1)\n",
        "        alpha_r = (self.att_r * x_r).sum(axis=-1)\n",
        "        output = self.propagate(edge_index, x=(x_l, x_r), alpha=(alpha_l, alpha_r), size=size)\n",
        "        output = torch.reshape(output, (-1, self.heads * self.out_channels))\n",
        "        return output\n",
        "\n",
        "\n",
        "    def message(self, x_j, alpha_j, alpha_i, index, ptr, size_i):\n",
        "\n",
        "        ############################################################################\n",
        "        # TODO: Your code here!\n",
        "        # Implement your message function. Putting the attention in message\n",
        "        # instead of in update is a little tricky.\n",
        "        # 1. Calculate the final attention weights using alpha_i and alpha_j,\n",
        "        #    and apply leaky Relu.\n",
        "        # 2. Calculate softmax over the neighbor nodes for all the nodes. Use\n",
        "        #    torch_geometric.utils.softmax instead of the one in Pytorch.\n",
        "        # 3. Apply dropout to attention weights (alpha).\n",
        "        # 4. Multiply embeddings and attention weights. As a sanity check, the output\n",
        "        #    should be of shape [E, H, C].\n",
        "        # 5. ptr (LongTensor, optional): If given, computes the softmax based on\n",
        "        #    sorted inputs in CSR representation. You can simply pass it to softmax.\n",
        "        ############################################################################\n",
        "        alpha = F.leaky_relu(alpha_j + alpha_i, self.negative_slope)\n",
        "        alpha = softmax(alpha, index, ptr, size_i)\n",
        "        alpha = F.dropout(alpha, p=self.dropout, training=self.training).unsqueeze(-1)\n",
        "        output = x_j * alpha\n",
        "        return output\n",
        "\n",
        "\n",
        "    def aggregate(self, inputs, index, dim_size = None):\n",
        "\n",
        "        ############################################################################\n",
        "        # TODO: Your code here!\n",
        "        # Implement your aggregate function here.\n",
        "        # See here as how to use torch_scatter.scatter: https://pytorch-scatter.readthedocs.io/en/latest/_modules/torch_scatter/scatter.html\n",
        "        # Pay attention to \"reduce\" parameter is different from that in GraphSage.\n",
        "        ############################################################################\n",
        "        output = torch_scatter.scatter(inputs, index, dim=0, dim_size=dim_size, reduce='sum')\n",
        "        return output\n"
      ],
      "execution_count": null,
      "outputs": []
    },
    {
      "cell_type": "markdown",
      "metadata": {
        "id": "qhwCIshroQ_L"
      },
      "source": [
        "## Building Optimizers\n",
        "\n",
        "Please build an Adam optimizer and return it in this function. But feel free to try some other types of optimizers on your own."
      ]
    },
    {
      "cell_type": "code",
      "metadata": {
        "id": "X0JPEV2poQ_M"
      },
      "source": [
        "import torch.optim as optim\n",
        "\n",
        "def build_optimizer(args, params):\n",
        "  if args.opt == 'adam':\n",
        "        opt = optim.Adam(params, lr=args.lr, weight_decay=args.weight_decay)\n",
        "  return opt"
      ],
      "execution_count": null,
      "outputs": []
    },
    {
      "cell_type": "markdown",
      "metadata": {
        "id": "hBYdWFwYCkwY"
      },
      "source": [
        "## Training and Testing\n",
        "\n",
        "Test your model every 10 epochs and save the accuracy to the file *CORA-GAT.txt* or *CORA-GraphSage.txt* recordingly."
      ]
    },
    {
      "cell_type": "code",
      "metadata": {
        "id": "_tZMWRc8CmGg"
      },
      "source": [
        "import time\n",
        "\n",
        "import networkx as nx\n",
        "import numpy as np\n",
        "import torch\n",
        "import torch.optim as optim\n",
        "from tqdm import trange\n",
        "import pandas as pd\n",
        "import copy\n",
        "\n",
        "from torch_geometric.datasets import TUDataset\n",
        "from torch_geometric.datasets import Planetoid\n",
        "from torch_geometric.data import DataLoader\n",
        "\n",
        "import torch_geometric.nn as pyg_nn\n",
        "\n",
        "import matplotlib.pyplot as plt\n",
        "\n",
        "\n",
        "def train(dataset, args):\n",
        "\n",
        "    print(\"Node task. test set size:\", np.sum(dataset[0]['test_mask'].numpy()))\n",
        "    print()\n",
        "    test_loader = loader = DataLoader(dataset, batch_size=args.batch_size, shuffle=False)\n",
        "\n",
        "    # build model\n",
        "    model = GNNStack(dataset.num_node_features, args.hidden_dim, dataset.num_classes, args)\n",
        "    ############################################################################\n",
        "    # TODO: Your code here!\n",
        "    # Train your model and return training loss and test accuracy (and/or others).\n",
        "    # Correct implementation would lead to accuracy at least 70%.\n",
        "    ############################################################################\n",
        "    epoch_list = []\n",
        "    loss_list = []\n",
        "    acc_list = []\n",
        "    data = dataset[0]\n",
        "    opt = build_optimizer(args, model.parameters())\n",
        "\n",
        "    f = open('/content/gdrive/MyDrive/CORA-' + args.model_type +'.txt', 'w')\n",
        "    for i in range(args.epochs):\n",
        "        opt.zero_grad()\n",
        "        model.train()\n",
        "        output = model(data)\n",
        "        loss = F.nll_loss(output[data['train_mask']], data['y'][data['train_mask']])\n",
        "        loss.backward()\n",
        "        opt.step()\n",
        "        if (i + 1) % 10 == 0:\n",
        "            acc = test(dataset, model, is_validation=False, save_model_preds=False, model_type=args.model_type)\n",
        "            f.write('Epoch:' + str(i + 1) + ', Accuracy on Test set:' + str(acc) + '\\n')\n",
        "            print('Epoch:{}, Loss:{}, Accuracy on Test set:{}'.format(i + 1, loss.item(), acc))\n",
        "            epoch_list.append(i + 1)\n",
        "            loss_list.append(loss.item())\n",
        "            acc_list.append(acc)\n",
        "    f.close()\n",
        "    return epoch_list, loss_list, acc_list\n",
        "\n",
        "def test(loader, test_model, is_validation=False, save_model_preds=False, model_type=None):\n",
        "    test_model.eval()\n",
        "    correct = 0\n",
        "    total = 0\n",
        "\n",
        "    # Note that Cora is only one graph!\n",
        "    for data in loader:\n",
        "    ############################################################################\n",
        "    # TODO: Your code here!\n",
        "    # Evaluate your model on the test set and return the accuracy.\n",
        "    ############################################################################\n",
        "        with torch.no_grad():\n",
        "            output = test_model(data)\n",
        "            pred = output.argmax(dim=1)\n",
        "            name = ''\n",
        "            if is_validation:\n",
        "              name = data['val_mask']\n",
        "            else:\n",
        "              name = data['test_mask']\n",
        "\n",
        "        correct += (pred[name] == data['y'][name]).sum()\n",
        "        total += name.sum()\n",
        "        acc = correct / total\n",
        "    return acc\n",
        "\n",
        "class objectview(object):\n",
        "    def __init__(self, d):\n",
        "        self.__dict__ = d\n"
      ],
      "execution_count": null,
      "outputs": []
    },
    {
      "cell_type": "code",
      "source": [
        "def plot_res(title, ylabel, x, y):\n",
        "    plt.plot(x, y)\n",
        "    plt.title(title)\n",
        "    plt.xlabel('Epoches')\n",
        "    plt.ylabel(ylabel)\n",
        "    plt.show()"
      ],
      "metadata": {
        "id": "MLZyN797RO0f"
      },
      "execution_count": null,
      "outputs": []
    },
    {
      "cell_type": "code",
      "metadata": {
        "id": "qe9B45l9Cpz2",
        "colab": {
          "base_uri": "https://localhost:8080/",
          "height": 1000
        },
        "outputId": "007fc379-4960-41fa-a839-dea64bef7097"
      },
      "source": [
        "for args in [\n",
        "    {'model_type': 'GraphSage', 'dataset': 'cora', 'num_layers': 2, 'heads': 1, 'batch_size': 32, 'hidden_dim': 32, 'dropout': 0.5, 'epochs': 500, 'opt': 'adam', 'opt_scheduler': 'none', 'opt_restart': 0, 'weight_decay': 5e-3, 'lr': 0.01},\n",
        "]:\n",
        "    args = objectview(args)\n",
        "    for model in ['GAT', 'GraphSage']:\n",
        "        args.model_type = model\n",
        "\n",
        "        # Match the dimension.\n",
        "        if model == 'GAT':\n",
        "          args.heads = 2\n",
        "        else:\n",
        "          args.heads = 1\n",
        "\n",
        "        if args.dataset == 'cora':\n",
        "            dataset = Planetoid(root='/tmp/cora', name='Cora')\n",
        "        else:\n",
        "            raise NotImplementedError(\"Unknown dataset\")\n",
        "        ############################################################################\n",
        "        # TODO: Your code here!\n",
        "        # Train the model and plot the training loss and test accuracy for both GAT and GraphSage\n",
        "        ############################################################################\n",
        "        epoch_list, loss_list, acc_list = train(dataset, args)\n",
        "        plot_res(model, 'Loss', epoch_list, loss_list)\n",
        "        plot_res(model, 'Accuracy', epoch_list, acc_list)\n",
        "\n",
        ""
      ],
      "execution_count": null,
      "outputs": [
        {
          "output_type": "stream",
          "name": "stdout",
          "text": [
            "Node task. test set size: 1000\n",
            "\n",
            "Epoch:10, Loss:1.1468366384506226, Accuracy on Test set:0.453000009059906\n",
            "Epoch:20, Loss:0.34213918447494507, Accuracy on Test set:0.6620000004768372\n",
            "Epoch:30, Loss:0.2137737274169922, Accuracy on Test set:0.7009999752044678\n",
            "Epoch:40, Loss:0.19093553721904755, Accuracy on Test set:0.7329999804496765\n",
            "Epoch:50, Loss:0.07853207737207413, Accuracy on Test set:0.7400000095367432\n",
            "Epoch:60, Loss:0.05885857716202736, Accuracy on Test set:0.7549999952316284\n",
            "Epoch:70, Loss:0.049712829291820526, Accuracy on Test set:0.734000027179718\n",
            "Epoch:80, Loss:0.19811014831066132, Accuracy on Test set:0.7390000224113464\n",
            "Epoch:90, Loss:0.08630524575710297, Accuracy on Test set:0.7590000033378601\n",
            "Epoch:100, Loss:0.06432691216468811, Accuracy on Test set:0.7369999885559082\n",
            "Epoch:110, Loss:0.08375382423400879, Accuracy on Test set:0.7260000109672546\n",
            "Epoch:120, Loss:0.07113278657197952, Accuracy on Test set:0.7279999852180481\n",
            "Epoch:130, Loss:0.06288468837738037, Accuracy on Test set:0.7360000014305115\n",
            "Epoch:140, Loss:0.06264960765838623, Accuracy on Test set:0.7519999742507935\n",
            "Epoch:150, Loss:0.058030109852552414, Accuracy on Test set:0.7549999952316284\n",
            "Epoch:160, Loss:0.06803495436906815, Accuracy on Test set:0.7390000224113464\n",
            "Epoch:170, Loss:0.06990464776754379, Accuracy on Test set:0.746999979019165\n",
            "Epoch:180, Loss:0.0394161082804203, Accuracy on Test set:0.7549999952316284\n",
            "Epoch:190, Loss:0.05688828229904175, Accuracy on Test set:0.7540000081062317\n",
            "Epoch:200, Loss:0.02225673757493496, Accuracy on Test set:0.7519999742507935\n",
            "Epoch:210, Loss:0.04161835089325905, Accuracy on Test set:0.7459999918937683\n",
            "Epoch:220, Loss:0.05974789336323738, Accuracy on Test set:0.7450000047683716\n",
            "Epoch:230, Loss:0.04793783649802208, Accuracy on Test set:0.7429999709129333\n",
            "Epoch:240, Loss:0.0394313782453537, Accuracy on Test set:0.7509999871253967\n",
            "Epoch:250, Loss:0.030789999291300774, Accuracy on Test set:0.7409999966621399\n",
            "Epoch:260, Loss:0.05160907655954361, Accuracy on Test set:0.7369999885559082\n",
            "Epoch:270, Loss:0.05283483862876892, Accuracy on Test set:0.7390000224113464\n",
            "Epoch:280, Loss:0.04190356656908989, Accuracy on Test set:0.7409999966621399\n",
            "Epoch:290, Loss:0.05629861727356911, Accuracy on Test set:0.7360000014305115\n",
            "Epoch:300, Loss:0.07620805501937866, Accuracy on Test set:0.7269999980926514\n",
            "Epoch:310, Loss:0.06546987593173981, Accuracy on Test set:0.7459999918937683\n",
            "Epoch:320, Loss:0.04716337099671364, Accuracy on Test set:0.7459999918937683\n",
            "Epoch:330, Loss:0.037664756178855896, Accuracy on Test set:0.7440000176429749\n",
            "Epoch:340, Loss:0.04745166376233101, Accuracy on Test set:0.7559999823570251\n",
            "Epoch:350, Loss:0.050592128187417984, Accuracy on Test set:0.7360000014305115\n",
            "Epoch:360, Loss:0.03845243155956268, Accuracy on Test set:0.7450000047683716\n",
            "Epoch:370, Loss:0.049950726330280304, Accuracy on Test set:0.7509999871253967\n",
            "Epoch:380, Loss:0.04741951823234558, Accuracy on Test set:0.7450000047683716\n",
            "Epoch:390, Loss:0.05121016129851341, Accuracy on Test set:0.7390000224113464\n",
            "Epoch:400, Loss:0.05468886345624924, Accuracy on Test set:0.7419999837875366\n",
            "Epoch:410, Loss:0.050048988312482834, Accuracy on Test set:0.7099999785423279\n",
            "Epoch:420, Loss:0.026297330856323242, Accuracy on Test set:0.7360000014305115\n",
            "Epoch:430, Loss:0.03689487650990486, Accuracy on Test set:0.7200000286102295\n",
            "Epoch:440, Loss:0.04790973663330078, Accuracy on Test set:0.7379999756813049\n",
            "Epoch:450, Loss:0.05409354344010353, Accuracy on Test set:0.6949999928474426\n",
            "Epoch:460, Loss:0.05327353626489639, Accuracy on Test set:0.7200000286102295\n",
            "Epoch:470, Loss:0.04461751505732536, Accuracy on Test set:0.7289999723434448\n",
            "Epoch:480, Loss:0.06616729497909546, Accuracy on Test set:0.7329999804496765\n",
            "Epoch:490, Loss:0.0610930360853672, Accuracy on Test set:0.7300000190734863\n",
            "Epoch:500, Loss:0.025519760325551033, Accuracy on Test set:0.7350000143051147\n"
          ]
        },
        {
          "output_type": "display_data",
          "data": {
            "text/plain": [
              "<Figure size 640x480 with 1 Axes>"
            ],
            "image/png": "[encoded data removed]"
          },
          "metadata": {}
        },
        {
          "output_type": "display_data",
          "data": {
            "text/plain": [
              "<Figure size 640x480 with 1 Axes>"
            ],
            "image/png": "[encoded data removed]"
          },
          "metadata": {}
        },
        {
          "output_type": "stream",
          "name": "stdout",
          "text": [
            "Node task. test set size: 1000\n",
            "\n",
            "Epoch:10, Loss:1.7025357484817505, Accuracy on Test set:0.6399999856948853\n",
            "Epoch:20, Loss:1.0528035163879395, Accuracy on Test set:0.7639999985694885\n",
            "Epoch:30, Loss:0.5678430199623108, Accuracy on Test set:0.7630000114440918\n",
            "Epoch:40, Loss:0.35484734177589417, Accuracy on Test set:0.7839999794960022\n",
            "Epoch:50, Loss:0.2868683934211731, Accuracy on Test set:0.7870000004768372\n",
            "Epoch:60, Loss:0.15060649812221527, Accuracy on Test set:0.777999997138977\n",
            "Epoch:70, Loss:0.3056361675262451, Accuracy on Test set:0.7739999890327454\n",
            "Epoch:80, Loss:0.31643274426460266, Accuracy on Test set:0.7749999761581421\n",
            "Epoch:90, Loss:0.21169111132621765, Accuracy on Test set:0.7680000066757202\n",
            "Epoch:100, Loss:0.2181372344493866, Accuracy on Test set:0.7680000066757202\n",
            "Epoch:110, Loss:0.22375881671905518, Accuracy on Test set:0.781000018119812\n",
            "Epoch:120, Loss:0.1369311362504959, Accuracy on Test set:0.781000018119812\n",
            "Epoch:130, Loss:0.19659730792045593, Accuracy on Test set:0.7620000243186951\n",
            "Epoch:140, Loss:0.3199879229068756, Accuracy on Test set:0.7540000081062317\n",
            "Epoch:150, Loss:0.19333629310131073, Accuracy on Test set:0.7689999938011169\n",
            "Epoch:160, Loss:0.2714903950691223, Accuracy on Test set:0.7590000033378601\n",
            "Epoch:170, Loss:0.22356902062892914, Accuracy on Test set:0.7289999723434448\n",
            "Epoch:180, Loss:0.19460295140743256, Accuracy on Test set:0.7580000162124634\n",
            "Epoch:190, Loss:0.18627747893333435, Accuracy on Test set:0.7639999985694885\n",
            "Epoch:200, Loss:0.18592752516269684, Accuracy on Test set:0.7770000100135803\n",
            "Epoch:210, Loss:0.17806093394756317, Accuracy on Test set:0.7540000081062317\n",
            "Epoch:220, Loss:0.23055768013000488, Accuracy on Test set:0.7680000066757202\n",
            "Epoch:230, Loss:0.182093545794487, Accuracy on Test set:0.7590000033378601\n",
            "Epoch:240, Loss:0.19093841314315796, Accuracy on Test set:0.7829999923706055\n",
            "Epoch:250, Loss:0.25733011960983276, Accuracy on Test set:0.7609999775886536\n",
            "Epoch:260, Loss:0.26508718729019165, Accuracy on Test set:0.7649999856948853\n",
            "Epoch:270, Loss:0.2234969586133957, Accuracy on Test set:0.7710000276565552\n",
            "Epoch:280, Loss:0.16771312057971954, Accuracy on Test set:0.7770000100135803\n",
            "Epoch:290, Loss:0.24721543490886688, Accuracy on Test set:0.7540000081062317\n",
            "Epoch:300, Loss:0.26932230591773987, Accuracy on Test set:0.7699999809265137\n",
            "Epoch:310, Loss:0.3103007674217224, Accuracy on Test set:0.722000002861023\n",
            "Epoch:320, Loss:0.170985147356987, Accuracy on Test set:0.7789999842643738\n",
            "Epoch:330, Loss:0.20625141263008118, Accuracy on Test set:0.7570000290870667\n",
            "Epoch:340, Loss:0.14878983795642853, Accuracy on Test set:0.7490000128746033\n",
            "Epoch:350, Loss:0.1571253389120102, Accuracy on Test set:0.7490000128746033\n",
            "Epoch:360, Loss:0.17272813618183136, Accuracy on Test set:0.7630000114440918\n",
            "Epoch:370, Loss:0.22000285983085632, Accuracy on Test set:0.7680000066757202\n",
            "Epoch:380, Loss:0.16690269112586975, Accuracy on Test set:0.7509999871253967\n",
            "Epoch:390, Loss:0.23013965785503387, Accuracy on Test set:0.7369999885559082\n",
            "Epoch:400, Loss:0.19583718478679657, Accuracy on Test set:0.7749999761581421\n",
            "Epoch:410, Loss:0.17780257761478424, Accuracy on Test set:0.7580000162124634\n",
            "Epoch:420, Loss:0.14920318126678467, Accuracy on Test set:0.7789999842643738\n",
            "Epoch:430, Loss:0.2054154872894287, Accuracy on Test set:0.7630000114440918\n",
            "Epoch:440, Loss:0.1891346126794815, Accuracy on Test set:0.7950000166893005\n",
            "Epoch:450, Loss:0.22572417557239532, Accuracy on Test set:0.8059999942779541\n",
            "Epoch:460, Loss:0.19651292264461517, Accuracy on Test set:0.7950000166893005\n",
            "Epoch:470, Loss:0.17741188406944275, Accuracy on Test set:0.7979999780654907\n",
            "Epoch:480, Loss:0.2438335418701172, Accuracy on Test set:0.7829999923706055\n",
            "Epoch:490, Loss:0.3031437397003174, Accuracy on Test set:0.796999990940094\n",
            "Epoch:500, Loss:0.20921099185943604, Accuracy on Test set:0.7879999876022339\n"
          ]
        },
        {
          "output_type": "display_data",
          "data": {
            "text/plain": [
              "<Figure size 640x480 with 1 Axes>"
            ],
            "image/png": "[encoded data removed]"
          },
          "metadata": {}
        },
        {
          "output_type": "display_data",
          "data": {
            "text/plain": [
              "<Figure size 640x480 with 1 Axes>"
            ],
            "image/png": "[encoded data removed]"
          },
          "metadata": {}
        }
      ]
    },
    {
      "cell_type": "markdown",
      "metadata": {
        "id": "PlCtBEBLMBkR"
      },
      "source": [
        "## Question 1: What is the best accuracy obtained on test set for GAT? (10 points)\n",
        "\n",
        "\n",
        "Run the cells above and save your GAT model accuracy every ten epochs to the file *CORA-GAT.txt*."
      ]
    },
    {
      "cell_type": "markdown",
      "source": [
        "Under default parameters, the best accuracy of GAT is: 0.7559"
      ],
      "metadata": {
        "id": "zkiMJ7Jvzlug"
      }
    },
    {
      "cell_type": "markdown",
      "source": [
        "## Question 2: What is the best accuracy obtained on test set for GraphSage? (10 points)\n",
        "\n",
        "\n",
        "Run the cells above and save your GraphSage model accuracy every ten epochs to the file *CORA-GraphSage.txt*."
      ],
      "metadata": {
        "id": "sPymzwbM27Fv"
      }
    },
    {
      "cell_type": "markdown",
      "source": [
        "Under default parameters, the best accuracy GraphSage is: 0.8059"
      ],
      "metadata": {
        "id": "8UD1WKeIAKrT"
      }
    },
    {
      "cell_type": "markdown",
      "source": [
        "## Question 3: Increase the number of GNN layers and observe how the performance changes. Write down you observation and analysis. (10 points)\n"
      ],
      "metadata": {
        "id": "H_Oenew23GXU"
      }
    },
    {
      "cell_type": "markdown",
      "source": [
        "When number of layers increases, the performance drops. When number of layers is two, the model has the best performance. I think this is because more layers may cause the model become overfit."
      ],
      "metadata": {
        "id": "KgFPs-Q9AFUR"
      }
    },
    {
      "cell_type": "markdown",
      "source": [
        "## Question 4: Change the number of attention heads and observe how the performance changes. Write down you observation and analysis. (10 points)\n"
      ],
      "metadata": {
        "id": "YHeT5g7B6PWx"
      }
    },
    {
      "cell_type": "markdown",
      "source": [
        "When number of heads increases, the performance increases slightly. I think this is because when heads increases, each head can focus on smaller part of the dataset, which can be more precise and more information can be learnt."
      ],
      "metadata": {
        "id": "F7tODJz_AIeP"
      }
    }
  ]
}